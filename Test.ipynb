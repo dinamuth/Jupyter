{
  "metadata": {
    "language_info": {
      "codemirror_mode": {
        "name": "python",
        "version": 3
      },
      "file_extension": ".py",
      "mimetype": "text/x-python",
      "name": "python",
      "nbconvert_exporter": "python",
      "pygments_lexer": "ipython3",
      "version": "3.8"
    },
    "kernelspec": {
      "name": "python",
      "display_name": "Python (Pyodide)",
      "language": "python"
    }
  },
  "nbformat_minor": 4,
  "nbformat": 4,
  "cells": [
    {
      "cell_type": "markdown",
      "source": "# My JupyterLite Notebook",
      "metadata": {}
    },
    {
      "cell_type": "markdown",
      "source": "## Introduction\n\nWelcome to my JupyterLite Notebook! This notebook serves as a demonstration of how to use JupyterLite, a lightweight version of Jupyter that runs directly in the browser.\n\nJupyterLite provides a minimal and efficient environment for running Python code, exploring data, and creating visualizations, without the need for a full Jupyter server. It's perfect for quick experiments and sharing notebooks with others.\n\nFeel free to explore the various cells in this notebook, modify the code, and add your own content. Enjoy your JupyterLite experience!\n",
      "metadata": {}
    },
    {
      "cell_type": "markdown",
      "source": "# My JupyterL## Popular Data Science Libraries\n\nHere are some of the popular data science libraries that you can use in JupyterLite Notebook:\n\n- NumPy: A fundamental package for numerical computing in Python.\n- Pandas: A powerful library for data manipulation and analysis.\n- Matplotlib: A widely-used library for creating static, interactive, and animated visualizations.\n- Seaborn: A data visualization library based on Matplotlib, with a higher-level interface.\n- SciPy: A library for scientific and technical computing, built on top of NumPy.\n- Scikit-learn: A machine learning library with various algorithms and tools for data mining and analysis.\n- TensorFlow: An open-source deep learning framework developed by Google.\n- PyTorch: An open-source deep learning framework developed by Facebook.\n- Statsmodels: A library for statistical modeling and hypothesis testing.\n\nFeel free to explore and experiment with these libraries to perform various data science tasks in this JupyterLite Notebook!\nite Notebook",
      "metadata": {}
    },
    {
      "cell_type": "markdown",
      "source": "## Data Science Languages\n\nJupyterLite Notebook supports various programming languages that are commonly used in data science. Here are some of the supported languages:\n\n- Python: Python is one of the most popular languages for data analysis, machine learning, and scientific computing. It has a rich ecosystem of libraries like NumPy, Pandas, Matplotlib, and more.\n\n- R: R is widely used for statistical computing and data visualization. It has a vast collection of packages for various statistical analyses.\n\n- Julia: Julia is a high-level, high-performance language for technical computing. It's known for its speed and ease of use in numerical and scientific computing.\n\n- SQL: JupyterLite also supports SQL, which is essential for working with relational databases and querying data.\n\nYou can choose the language that best suits your data science needs and start exploring data, analyzing datasets, and building models in this JupyterLite Notebook!\n",
      "metadata": {}
    },
    {
      "cell_type": "markdown",
      "source": "## Data Science Tools\n\nHere's a table of popular data science tools that you can use in JupyterLite Notebook:\n\n| Tool         | Description                                        |\n|--------------|----------------------------------------------------|\n| NumPy        | Fundamental package for numerical computing in Python. |\n| Pandas       | Powerful library for data manipulation and analysis. |\n| Matplotlib   | Widely-used library for creating visualizations.   |\n| Seaborn      | Data visualization library based on Matplotlib.    |\n| SciPy        | Library for scientific and technical computing.    |\n| Scikit-learn | Machine learning library for data mining and analysis. |\n| TensorFlow   | Open-source deep learning framework by Google.     |\n| PyTorch      | Open-source deep learning framework by Facebook.   |\n| Statsmodels  | Library for statistical modeling and hypothesis testing. |\n| R            | Language for statistical computing and data visualization. |\n| Julia        | High-level, high-performance language for technical computing. |\n| SQL          | Language for working with relational databases and querying data. |\n",
      "metadata": {}
    },
    {
      "cell_type": "markdown",
      "source": "## Arithmetic Expression Example\n\nIn this example, we will explore simple arithmetic expressions using Python in JupyterLite Notebook. Python provides powerful tools for performing basic mathematical operations like addition, subtraction, multiplication, and division.\n\nLet's start by showcasing a few basic arithmetic operations:\n\n- Addition: The `+` operator is used for addition. For example, `2 + 3` will result in `5`.\n- Subtraction: The `-` operator is used for subtraction. For example, `7 - 4` will result in `3`.\n- Multiplication: The `*` operator is used for multiplication. For example, `5 * 6` will result in `30`.\n- Division: The `/` operator is used for division. For example, `10 / 2` will result in `5`.\n\nYou can perform these calculations directly in code cells within JupyterLite Notebook. Feel free to create new cells, try out different arithmetic expressions, and see the results instantly.\n",
      "metadata": {}
    },
    {
      "cell_type": "code",
      "source": "# Multiplication\nnum1 = 5\nnum2 = 3\nresult_mul = num1 * num2\nprint(f\"{num1} multiplied by {num2} is equal to {result_mul}\")\n\n# Addition\nnum3 = 10\nnum4 = 7\nresult_add = num3 + num4\nprint(f\"{num3} added to {num4} is equal to {result_add}\")",
      "metadata": {
        "trusted": true
      },
      "execution_count": 1,
      "outputs": [
        {
          "name": "stdout",
          "text": "5 multiplied by 3 is equal to 15\n10 added to 7 is equal to 17\n",
          "output_type": "stream"
        }
      ]
    },
    {
      "cell_type": "code",
      "source": "# Convert minutes to hours\nminutes = 150\nhours = minutes / 60\n\nprint(f\"{minutes} minutes is equal to {hours} hours.\")",
      "metadata": {
        "trusted": true
      },
      "execution_count": 2,
      "outputs": [
        {
          "name": "stdout",
          "text": "150 minutes is equal to 2.5 hours.\n",
          "output_type": "stream"
        }
      ]
    },
    {
      "cell_type": "markdown",
      "source": "## Objectives\n\nThe objectives of this JupyterLite Notebook are:\n\n1. Introduce basic arithmetic operations using Python.\n2. Demonstrate data science libraries like NumPy and Pandas.\n3. Convert minutes to hours using Python.\n4. Explore data visualization with Matplotlib and Seaborn.\n5. Apply machine learning algorithms with Scikit-learn.\n6. Utilize deep learning frameworks like TensorFlow and PyTorch.\n7. Perform statistical modeling and hypothesis testing with Statsmodels.\n8. Work with data in different languages, including Python, R, and SQL.\n9. Share and collaborate on notebooks using JupyterLite's lightweight environment.\n\nFeel free to experiment with the examples and code cells to achieve these objectives and enhance your data science skills!\n",
      "metadata": {}
    },
    {
      "cell_type": "markdown",
      "source": "## Author: Nabila\n\nHello World! My name is Nabila, and I am the author of this notebook.\n\nAs a programmer, I enjoy exploring various data science topics. \n\nThis notebook is designed to help me learn and practice data science concepts using JupyterLite's lightweight and accessible environment.\n\n\n",
      "metadata": {}
    }
  ]
}